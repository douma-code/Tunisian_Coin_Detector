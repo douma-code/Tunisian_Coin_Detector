{
 "cells": [
  {
   "cell_type": "code",
   "execution_count": 142,
   "metadata": {},
   "outputs": [
    {
     "name": "stdout",
     "output_type": "stream",
     "text": [
      "loading Roboflow workspace...\n",
      "loading Roboflow project...\n"
     ]
    }
   ],
   "source": [
    "from roboflow import Roboflow\n",
    "import matplotlib.pyplot as plt\n",
    "import cv2\n",
    "from tensorflow.keras.utils import load_img, img_to_array\n",
    "import os\n",
    "import numpy as np\n",
    "import tensorflow as tf\n",
    "\n",
    "rf = Roboflow(api_key=\"YOUR_API\")\n",
    "project = rf.workspace(\"coins-pw0uj\").project(\"coins-tunisia\")\n",
    "version = project.version(2)\n",
    "dataset = version.download(\"yolov5\")\n",
    "model = project.version(1).model\n"
   ]
  },
  {
   "cell_type": "code",
   "execution_count": 148,
   "metadata": {},
   "outputs": [],
   "source": [
    "#preparing test data\n",
    "\n",
    "xi,yi=150,150\n",
    "size=(xi,yi,3)\n",
    "\n",
    "ls=[]\n",
    "x_test=[]\n",
    "y_test=[]\n",
    "\n",
    "path_images_test_0=\"D:/dataset/test/100\"\n",
    "images_0 = os.listdir(path_images_test_0)\n",
    "\n",
    "for img_name in images_0:\n",
    "    path_img= os.path.join(path_images_test_0,img_name) #getting the path of an image\n",
    "\n",
    "    image = load_img(path_img, target_size=size) #upploading the image\n",
    "    image = img_to_array(image) #getting the array values of the image\n",
    "    #print(image)\n",
    "    image_grayscale = tf.image.rgb_to_grayscale(image) #converting the RGB image into grayscale\n",
    "    image_grayscale = np.array(image_grayscale)\n",
    "    #print(image_grayscale)\n",
    "    x_test.append(image_grayscale)\n",
    "    y_test.append(100)\n",
    "\n",
    "\n",
    "path_images_test_0=\"D:/dataset/test/50\"\n",
    "images_0 = os.listdir(path_images_test_0)\n",
    "\n",
    "for img_name in images_0:\n",
    "    path_img= os.path.join(path_images_test_0,img_name) #getting the path of an image\n",
    "\n",
    "    image = load_img(path_img, target_size=size) #upploading the image\n",
    "    image = img_to_array(image) #getting the array values of the image\n",
    "    #print(image)\n",
    "    image_grayscale = tf.image.rgb_to_grayscale(image) #converting the RGB image into grayscale\n",
    "    image_grayscale = np.array(image_grayscale)\n",
    "    #print(image_grayscale)\n",
    "    x_test.append(image_grayscale)\n",
    "    y_test.append(50)\n",
    "\n",
    "\n",
    "\n",
    "x_test=np.array(x_test)\n",
    "y_test=np.array(y_test)"
   ]
  },
  {
   "cell_type": "code",
   "execution_count": 149,
   "metadata": {},
   "outputs": [
    {
     "name": "stdout",
     "output_type": "stream",
     "text": [
      "100\n",
      "100\n",
      "200\n",
      "200\n",
      "prediction:  [100 100 200 200]\n",
      "ground truth:  [100 100  50  50]\n",
      "[[0 0 2]\n",
      " [0 2 0]\n",
      " [0 0 0]]\n",
      "              precision    recall  f1-score   support\n",
      "\n",
      "          50       0.00      0.00      0.00         2\n",
      "         100       1.00      1.00      1.00         2\n",
      "         200       0.00      0.00      0.00         0\n",
      "\n",
      "    accuracy                           0.50         4\n",
      "   macro avg       0.33      0.33      0.33         4\n",
      "weighted avg       0.50      0.50      0.50         4\n",
      "\n",
      "acc= 0.5\n"
     ]
    },
    {
     "name": "stderr",
     "output_type": "stream",
     "text": [
      "Precision is ill-defined and being set to 0.0 in labels with no predicted samples. Use `zero_division` parameter to control this behavior.\n",
      "Recall is ill-defined and being set to 0.0 in labels with no true samples. Use `zero_division` parameter to control this behavior.\n",
      "Precision is ill-defined and being set to 0.0 in labels with no predicted samples. Use `zero_division` parameter to control this behavior.\n",
      "Recall is ill-defined and being set to 0.0 in labels with no true samples. Use `zero_division` parameter to control this behavior.\n",
      "Precision is ill-defined and being set to 0.0 in labels with no predicted samples. Use `zero_division` parameter to control this behavior.\n",
      "Recall is ill-defined and being set to 0.0 in labels with no true samples. Use `zero_division` parameter to control this behavior.\n"
     ]
    }
   ],
   "source": [
    "#prediction\n",
    "y_pred=[]\n",
    "\n",
    "for test in x_test:\n",
    "  test=img_to_array(test)\n",
    "\n",
    "  responce=model.predict(test,confidence=5,overlap=40).json()\n",
    "  somme=sum([int(i[\"class\"]) for i in responce['predictions']])\n",
    "  print(somme)\n",
    "  y_pred.append(somme)\n",
    "\n",
    "y_pred=np.array(y_pred)\n",
    "print(\"prediction: \", y_pred)\n",
    "print(\"ground truth: \", y_test)\n",
    "\n",
    "#confusion matrix\n",
    "from sklearn.metrics import classification_report, confusion_matrix, accuracy_score\n",
    "\n",
    "print(confusion_matrix(y_test,y_pred))\n",
    "print(classification_report(y_test,y_pred))\n",
    "print('acc=',accuracy_score(y_test,y_pred))"
   ]
  }
 ],
 "metadata": {
  "kernelspec": {
   "display_name": "Python 3",
   "language": "python",
   "name": "python3"
  },
  "language_info": {
   "codemirror_mode": {
    "name": "ipython",
    "version": 3
   },
   "file_extension": ".py",
   "mimetype": "text/x-python",
   "name": "python",
   "nbconvert_exporter": "python",
   "pygments_lexer": "ipython3",
   "version": "3.12.3"
  }
 },
 "nbformat": 4,
 "nbformat_minor": 2
}
